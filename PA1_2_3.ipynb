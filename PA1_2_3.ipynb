{
 "cells": [
  {
   "cell_type": "code",
   "execution_count": 1,
   "id": "16862c55-7a4a-4181-9ed3-00db834afd94",
   "metadata": {},
   "outputs": [],
   "source": [
    "import pandas as pd"
   ]
  },
  {
   "cell_type": "code",
   "execution_count": 2,
   "id": "1d3c0171-1053-4399-a9ac-4896d85b43b5",
   "metadata": {},
   "outputs": [],
   "source": [
    "data = {'Date': ['2023-01-01', '2023-01-15', '2023-01-25', '2023-02-05']}\n",
    "df = pd.DataFrame(data)"
   ]
  },
  {
   "cell_type": "code",
   "execution_count": 3,
   "id": "6b858c02-788a-4352-8054-a4e87384b2f4",
   "metadata": {},
   "outputs": [],
   "source": [
    "def select_rows_between_dates(df):\n",
    "    \n",
    "    df['Date'] = pd.to_datetime(df['Date'])\n",
    "    \n",
    "   \n",
    "    start_date = '2023-01-01'\n",
    "    end_date = '2023-01-31'\n",
    "    \n",
    "    date_mask = (df['Date'] >= start_date) & (df['Date'] <= end_date)\n",
    "    \n",
    "    selected_rows = df[date_mask]\n",
    "\n",
    "    return selected_rows\n"
   ]
  },
  {
   "cell_type": "code",
   "execution_count": 4,
   "id": "058222e7-5d6f-49ca-8855-44207ee48a50",
   "metadata": {},
   "outputs": [],
   "source": [
    "selected_rows = select_rows_between_dates(df)"
   ]
  },
  {
   "cell_type": "code",
   "execution_count": 6,
   "id": "ed0aca35-e682-487c-879c-d5c12a89d1b3",
   "metadata": {},
   "outputs": [
    {
     "name": "stdout",
     "output_type": "stream",
     "text": [
      "        Date\n",
      "0 2023-01-01\n",
      "1 2023-01-15\n",
      "2 2023-01-25\n"
     ]
    }
   ],
   "source": [
    "print(selected_rows)"
   ]
  },
  {
   "cell_type": "code",
   "execution_count": null,
   "id": "f1572a9a-1e1c-44bd-bf09-7774f6bc1fb6",
   "metadata": {},
   "outputs": [],
   "source": [
    "To use the basic functions of pandas, what is the first and foremost necessary library that needs to\n",
    "be imported? \"pandas\""
   ]
  }
 ],
 "metadata": {
  "kernelspec": {
   "display_name": "Python 3 (ipykernel)",
   "language": "python",
   "name": "python3"
  },
  "language_info": {
   "codemirror_mode": {
    "name": "ipython",
    "version": 3
   },
   "file_extension": ".py",
   "mimetype": "text/x-python",
   "name": "python",
   "nbconvert_exporter": "python",
   "pygments_lexer": "ipython3",
   "version": "3.10.8"
  }
 },
 "nbformat": 4,
 "nbformat_minor": 5
}
