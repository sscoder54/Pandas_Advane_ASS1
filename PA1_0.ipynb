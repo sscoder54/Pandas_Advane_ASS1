{
 "cells": [
  {
   "cell_type": "markdown",
   "id": "b8055f15-d07e-4d0c-b573-7429be3937c4",
   "metadata": {},
   "source": [
    "Given a Pandas DataFrame df with a column 'Sales' and a column 'Date', write a Python function to\n",
    "create a new column 'MovingAverage' that contains the moving average of the sales for the past 7 days\n",
    "for each row in the DataFrame. The moving average should be calculated using a window of size 7 and\n",
    "should include the current day."
   ]
  },
  {
   "cell_type": "code",
   "execution_count": 8,
   "id": "08a67e31-9933-4eaf-a0c8-8c6b09bdb79c",
   "metadata": {},
   "outputs": [],
   "source": [
    "import pandas as pd"
   ]
  },
  {
   "cell_type": "code",
   "execution_count": 9,
   "id": "8c24545f-5f6d-42f3-8212-692c3b742699",
   "metadata": {},
   "outputs": [],
   "source": [
    "data = {'Sales' : [100, 150, 170, 180, 160, 170, 200, 150, 160],\n",
    "        'Date': ['2022-01-01', '2022-01-02', '2022-01-03', '2022-01-04', '2022-01-05',\n",
    "                 '2022-01-06', '2022-01-07', '2022-01-08', '2022-01-09']}"
   ]
  },
  {
   "cell_type": "code",
   "execution_count": 10,
   "id": "9488c3e5-d2fc-48e2-ad15-72a7e082adec",
   "metadata": {},
   "outputs": [],
   "source": [
    "def calculate_moving_average(df):\n",
    "    # Convert 'Date' column to datetime type if not already\n",
    "    df['Date'] = pd.to_datetime(df['Date'])\n",
    "    \n",
    "    # Sort the DataFrame by 'Date' in ascending order (required for rolling)\n",
    "    df = df.sort_values('Date')\n",
    "    \n",
    "    # Calculate the moving average with a window of 7 days\n",
    "    df['MovingAverage'] = df['Sales'].rolling(window=7, min_periods=1).mean()\n"
   ]
  },
  {
   "cell_type": "code",
   "execution_count": 11,
   "id": "cdf6c2c7-ce24-4757-af94-8c8136000c90",
   "metadata": {},
   "outputs": [],
   "source": [
    "calculate_moving_average(df)"
   ]
  },
  {
   "cell_type": "code",
   "execution_count": 12,
   "id": "07e359be-8c11-402b-9610-0d8421c10f70",
   "metadata": {},
   "outputs": [
    {
     "name": "stdout",
     "output_type": "stream",
     "text": [
      "   Sales       Date  MovingAverage\n",
      "0    100 2022-01-01     100.000000\n",
      "1    150 2022-01-02     125.000000\n",
      "2    170 2022-01-03     140.000000\n",
      "3    180 2022-01-04     150.000000\n",
      "4    160 2022-01-05     152.000000\n",
      "5    170 2022-01-06     155.000000\n",
      "6    200 2022-01-07     161.428571\n",
      "7    150 2022-01-08     168.571429\n",
      "8    160 2022-01-09     170.000000\n"
     ]
    }
   ],
   "source": [
    "print(df)"
   ]
  },
  {
   "cell_type": "code",
   "execution_count": null,
   "id": "fdbbd419-c04b-4b2f-b19f-74ea15c4c3f2",
   "metadata": {},
   "outputs": [],
   "source": []
  }
 ],
 "metadata": {
  "kernelspec": {
   "display_name": "Python 3 (ipykernel)",
   "language": "python",
   "name": "python3"
  },
  "language_info": {
   "codemirror_mode": {
    "name": "ipython",
    "version": 3
   },
   "file_extension": ".py",
   "mimetype": "text/x-python",
   "name": "python",
   "nbconvert_exporter": "python",
   "pygments_lexer": "ipython3",
   "version": "3.10.8"
  }
 },
 "nbformat": 4,
 "nbformat_minor": 5
}
