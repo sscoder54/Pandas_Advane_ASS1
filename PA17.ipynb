{
 "cells": [
  {
   "cell_type": "markdown",
   "id": "a4fffaea-ef66-4e0a-a0d8-764b241749ff",
   "metadata": {},
   "source": [
    "You have a Pandas DataFrame df that contains a column named 'Email' that contains email\n",
    "addresses in the format 'username@domain.com'. Write a Python function that creates a new column\n",
    "'Username' in df that contains only the username part of each email address."
   ]
  },
  {
   "cell_type": "code",
   "execution_count": 1,
   "id": "21bf26fc-a4bb-47da-ac20-1af959818201",
   "metadata": {},
   "outputs": [],
   "source": [
    "import pandas as pd"
   ]
  },
  {
   "cell_type": "code",
   "execution_count": 2,
   "id": "1de53fcd-36fc-4761-9a60-e66b23f94a3b",
   "metadata": {},
   "outputs": [],
   "source": [
    "data = {'Email' : ['shehanaz54@gmail.com', 'sscoder@gmail.com', 'shaikshe@gmail.com']}"
   ]
  },
  {
   "cell_type": "code",
   "execution_count": 3,
   "id": "6f2c54a8-0600-4529-8b68-57d5bcfa2d06",
   "metadata": {},
   "outputs": [],
   "source": [
    "df = pd.DataFrame(data)"
   ]
  },
  {
   "cell_type": "code",
   "execution_count": 4,
   "id": "e05611eb-5e5f-4575-88b4-65382653ba15",
   "metadata": {},
   "outputs": [],
   "source": [
    "Email = df['Email']"
   ]
  },
  {
   "cell_type": "code",
   "execution_count": 14,
   "id": "6a3e05b1-1c34-4612-b2b3-45955e70a8e3",
   "metadata": {},
   "outputs": [],
   "source": [
    "s = Email.str.split('@')"
   ]
  },
  {
   "cell_type": "code",
   "execution_count": 15,
   "id": "03504e3e-7e92-42a7-8166-6d0148eb852c",
   "metadata": {},
   "outputs": [
    {
     "data": {
      "text/plain": [
       "0    [shehanaz54, gmail.com]\n",
       "1       [sscoder, gmail.com]\n",
       "2      [shaikshe, gmail.com]\n",
       "Name: Email, dtype: object"
      ]
     },
     "execution_count": 15,
     "metadata": {},
     "output_type": "execute_result"
    }
   ],
   "source": [
    "s"
   ]
  },
  {
   "cell_type": "code",
   "execution_count": 17,
   "id": "94132a86-098f-4808-bf9c-31f8bf4631b2",
   "metadata": {},
   "outputs": [],
   "source": [
    "df['Username'] = s.str[0]"
   ]
  },
  {
   "cell_type": "code",
   "execution_count": 18,
   "id": "f1917c74-2878-4db7-9b8f-8f94c25e695b",
   "metadata": {},
   "outputs": [
    {
     "data": {
      "text/html": [
       "<div>\n",
       "<style scoped>\n",
       "    .dataframe tbody tr th:only-of-type {\n",
       "        vertical-align: middle;\n",
       "    }\n",
       "\n",
       "    .dataframe tbody tr th {\n",
       "        vertical-align: top;\n",
       "    }\n",
       "\n",
       "    .dataframe thead th {\n",
       "        text-align: right;\n",
       "    }\n",
       "</style>\n",
       "<table border=\"1\" class=\"dataframe\">\n",
       "  <thead>\n",
       "    <tr style=\"text-align: right;\">\n",
       "      <th></th>\n",
       "      <th>Email</th>\n",
       "      <th>Username</th>\n",
       "    </tr>\n",
       "  </thead>\n",
       "  <tbody>\n",
       "    <tr>\n",
       "      <th>0</th>\n",
       "      <td>shehanaz54@gmail.com</td>\n",
       "      <td>shehanaz54</td>\n",
       "    </tr>\n",
       "    <tr>\n",
       "      <th>1</th>\n",
       "      <td>sscoder@gmail.com</td>\n",
       "      <td>sscoder</td>\n",
       "    </tr>\n",
       "    <tr>\n",
       "      <th>2</th>\n",
       "      <td>shaikshe@gmail.com</td>\n",
       "      <td>shaikshe</td>\n",
       "    </tr>\n",
       "  </tbody>\n",
       "</table>\n",
       "</div>"
      ],
      "text/plain": [
       "                  Email    Username\n",
       "0  shehanaz54@gmail.com  shehanaz54\n",
       "1     sscoder@gmail.com     sscoder\n",
       "2    shaikshe@gmail.com    shaikshe"
      ]
     },
     "execution_count": 18,
     "metadata": {},
     "output_type": "execute_result"
    }
   ],
   "source": [
    "df.head()"
   ]
  },
  {
   "cell_type": "code",
   "execution_count": null,
   "id": "22df8d5e-8283-49c7-904d-dfb15aac4a9c",
   "metadata": {},
   "outputs": [],
   "source": []
  }
 ],
 "metadata": {
  "kernelspec": {
   "display_name": "Python 3 (ipykernel)",
   "language": "python",
   "name": "python3"
  },
  "language_info": {
   "codemirror_mode": {
    "name": "ipython",
    "version": 3
   },
   "file_extension": ".py",
   "mimetype": "text/x-python",
   "name": "python",
   "nbconvert_exporter": "python",
   "pygments_lexer": "ipython3",
   "version": "3.10.8"
  }
 },
 "nbformat": 4,
 "nbformat_minor": 5
}
