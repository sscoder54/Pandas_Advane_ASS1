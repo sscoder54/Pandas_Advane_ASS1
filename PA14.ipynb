{
 "cells": [
  {
   "cell_type": "code",
   "execution_count": 1,
   "id": "0a0a4152-71e4-4d5c-8670-7ae258766ec4",
   "metadata": {},
   "outputs": [],
   "source": [
    "import pandas as pd"
   ]
  },
  {
   "cell_type": "code",
   "execution_count": 8,
   "id": "2f73d3c3-3b0e-4510-8445-3ae046517717",
   "metadata": {},
   "outputs": [],
   "source": [
    "data = {'Text': ['This is an example', 'Make it fast', 'Free Python programming course']}\n",
    "df = pd.DataFrame(data)"
   ]
  },
  {
   "cell_type": "code",
   "execution_count": 9,
   "id": "852d466e-72de-48e1-840f-2cc215f77165",
   "metadata": {},
   "outputs": [],
   "source": [
    "text_column = df['Text']"
   ]
  },
  {
   "cell_type": "code",
   "execution_count": 10,
   "id": "4ff36d5c-9282-4597-a34e-4730af29482e",
   "metadata": {},
   "outputs": [],
   "source": [
    "split_texts = text_column.str.split()"
   ]
  },
  {
   "cell_type": "code",
   "execution_count": 11,
   "id": "aae9bc66-9e4b-4e23-80d3-6b3625d7a3b7",
   "metadata": {},
   "outputs": [],
   "source": [
    "word_count_series = split_texts.apply(len)"
   ]
  },
  {
   "cell_type": "code",
   "execution_count": 12,
   "id": "981df1ae-c7f5-4ad4-b5f4-3c5cedb7e534",
   "metadata": {},
   "outputs": [],
   "source": [
    "df['Word_Count'] = word_count_series"
   ]
  },
  {
   "cell_type": "code",
   "execution_count": 13,
   "id": "ed4a0f4f-dc69-4d17-a292-c80884f801fc",
   "metadata": {},
   "outputs": [
    {
     "data": {
      "text/html": [
       "<div>\n",
       "<style scoped>\n",
       "    .dataframe tbody tr th:only-of-type {\n",
       "        vertical-align: middle;\n",
       "    }\n",
       "\n",
       "    .dataframe tbody tr th {\n",
       "        vertical-align: top;\n",
       "    }\n",
       "\n",
       "    .dataframe thead th {\n",
       "        text-align: right;\n",
       "    }\n",
       "</style>\n",
       "<table border=\"1\" class=\"dataframe\">\n",
       "  <thead>\n",
       "    <tr style=\"text-align: right;\">\n",
       "      <th></th>\n",
       "      <th>Text</th>\n",
       "      <th>Word_Count</th>\n",
       "    </tr>\n",
       "  </thead>\n",
       "  <tbody>\n",
       "    <tr>\n",
       "      <th>0</th>\n",
       "      <td>This is an example</td>\n",
       "      <td>4</td>\n",
       "    </tr>\n",
       "    <tr>\n",
       "      <th>1</th>\n",
       "      <td>Make it fast</td>\n",
       "      <td>3</td>\n",
       "    </tr>\n",
       "    <tr>\n",
       "      <th>2</th>\n",
       "      <td>Free Python programming course</td>\n",
       "      <td>4</td>\n",
       "    </tr>\n",
       "  </tbody>\n",
       "</table>\n",
       "</div>"
      ],
      "text/plain": [
       "                             Text  Word_Count\n",
       "0              This is an example           4\n",
       "1                    Make it fast           3\n",
       "2  Free Python programming course           4"
      ]
     },
     "execution_count": 13,
     "metadata": {},
     "output_type": "execute_result"
    }
   ],
   "source": [
    "df"
   ]
  },
  {
   "cell_type": "code",
   "execution_count": null,
   "id": "16dd5f62-949d-4963-8391-8f953b6390ae",
   "metadata": {},
   "outputs": [],
   "source": []
  }
 ],
 "metadata": {
  "kernelspec": {
   "display_name": "Python 3 (ipykernel)",
   "language": "python",
   "name": "python3"
  },
  "language_info": {
   "codemirror_mode": {
    "name": "ipython",
    "version": 3
   },
   "file_extension": ".py",
   "mimetype": "text/x-python",
   "name": "python",
   "nbconvert_exporter": "python",
   "pygments_lexer": "ipython3",
   "version": "3.10.8"
  }
 },
 "nbformat": 4,
 "nbformat_minor": 5
}
