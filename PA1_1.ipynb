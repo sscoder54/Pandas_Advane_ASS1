{
 "cells": [
  {
   "cell_type": "code",
   "execution_count": 6,
   "id": "9a3440fb-be79-489d-b64a-7c855d5a35c9",
   "metadata": {},
   "outputs": [],
   "source": [
    "import pandas as pd"
   ]
  },
  {
   "cell_type": "code",
   "execution_count": 7,
   "id": "fed98aee-93c7-435b-86a9-5a24710d8386",
   "metadata": {},
   "outputs": [],
   "source": [
    "data = {'Date': ['2024-01-01', '2024-01-02','2024-01-03','2024-01-04', '2024-01-05', '2024-01-06',\n",
    "                 '2024-01-07', '2024-01-08', '2024-01-09', '2024-01-10']}"
   ]
  },
  {
   "cell_type": "code",
   "execution_count": 8,
   "id": "396a38f8-141d-4453-86f5-2f538441feb5",
   "metadata": {},
   "outputs": [],
   "source": [
    "df = pd.DataFrame(data)"
   ]
  },
  {
   "cell_type": "code",
   "execution_count": 9,
   "id": "a53a133f-140b-4de1-b6b4-0453a0ce3940",
   "metadata": {},
   "outputs": [],
   "source": [
    "def add_weekday_column(df):\n",
    "    # Convert 'Date' column to datetime type if not already\n",
    "    df['Date'] = pd.to_datetime(df['Date'])\n",
    "    \n",
    "    # Extract weekday name and add it to the DataFrame\n",
    "    df['Weekday'] = df['Date'].dt.day_name()"
   ]
  },
  {
   "cell_type": "code",
   "execution_count": 10,
   "id": "cfbeed27-b7b5-44b4-8847-dea6610aa963",
   "metadata": {},
   "outputs": [],
   "source": [
    "add_weekday_column(df)"
   ]
  },
  {
   "cell_type": "code",
   "execution_count": 11,
   "id": "89be8fee-4208-48e5-8e6f-006815acbf2e",
   "metadata": {},
   "outputs": [
    {
     "name": "stdout",
     "output_type": "stream",
     "text": [
      "        Date    Weekday\n",
      "0 2024-01-01     Monday\n",
      "1 2024-01-02    Tuesday\n",
      "2 2024-01-03  Wednesday\n",
      "3 2024-01-04   Thursday\n",
      "4 2024-01-05     Friday\n",
      "5 2024-01-06   Saturday\n",
      "6 2024-01-07     Sunday\n",
      "7 2024-01-08     Monday\n",
      "8 2024-01-09    Tuesday\n",
      "9 2024-01-10  Wednesday\n"
     ]
    }
   ],
   "source": [
    "print(df)"
   ]
  },
  {
   "cell_type": "code",
   "execution_count": null,
   "id": "e24d264f-4fe6-4d9d-8206-724545f02f97",
   "metadata": {},
   "outputs": [],
   "source": []
  }
 ],
 "metadata": {
  "kernelspec": {
   "display_name": "Python 3 (ipykernel)",
   "language": "python",
   "name": "python3"
  },
  "language_info": {
   "codemirror_mode": {
    "name": "ipython",
    "version": 3
   },
   "file_extension": ".py",
   "mimetype": "text/x-python",
   "name": "python",
   "nbconvert_exporter": "python",
   "pygments_lexer": "ipython3",
   "version": "3.10.8"
  }
 },
 "nbformat": 4,
 "nbformat_minor": 5
}
